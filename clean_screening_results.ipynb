{
 "cells": [
  {
   "cell_type": "code",
   "execution_count": 16,
   "metadata": {},
   "outputs": [],
   "source": [
    "import json\n",
    "from utils import clean_xml_string, extract_all_xml_tags_properties\n",
    "from pprint import pprint"
   ]
  },
  {
   "cell_type": "code",
   "execution_count": 17,
   "metadata": {},
   "outputs": [],
   "source": [
    "dirty_screening_results = json.load(open(\"screening_results.json\"))"
   ]
  },
  {
   "cell_type": "code",
   "execution_count": 18,
   "metadata": {},
   "outputs": [],
   "source": [
    "projects = json.load(open(\"manifund_projects.json\"))"
   ]
  },
  {
   "cell_type": "code",
   "execution_count": 19,
   "metadata": {},
   "outputs": [],
   "source": [
    "def clean_screening_result(dirty_screening_result):\n",
    "    matching_project = next((p for p in projects if p[\"id\"] == dirty_screening_result[\"project_id\"]), None)\n",
    "    if not matching_project:\n",
    "        raise ValueError(f\"No matching project found for {dirty_screening_result['project_id']}\")\n",
    "    dirty_screening_result[\"slug\"] = matching_project[\"slug\"]\n",
    "    return dirty_screening_result\n"
   ]
  },
  {
   "cell_type": "code",
   "execution_count": 20,
   "metadata": {},
   "outputs": [],
   "source": [
    "clean_screening_results = [clean_screening_result(dirty_screening_result) for dirty_screening_result in dirty_screening_results]\n",
    "\n",
    "json.dump(clean_screening_results, open(\"screening_results_clean.json\", \"w\"))"
   ]
  },
  {
   "cell_type": "code",
   "execution_count": 21,
   "metadata": {},
   "outputs": [
    {
     "data": {
      "text/plain": [
       "[{'impact_statement': '        The project could potentially strengthen civil society and economic resilience in Ukraine, which might indirectly contribute to better governance around AI development in a geopolitically significant region.      ',\n",
       "  'pathway_to_impact': '        By supporting social enterprises in Ukraine, the project might help build stronger institutional capacity and economic stability. A more stable Ukraine with stronger civil society institutions could potentially engage more effectively in international AI governance discussions and implement better AI-related regulations domestically. Additionally, a stronger Ukrainian economy might attract tech talent that could contribute to AI safety efforts in the region.      ',\n",
       "  'barriers_to_impact': \" The connection between general economic development and AI governance capability is tenuous and indirect The proposal does not mention any specific focus on technology, AI, or related domains The scale of impact ($50,000 across four loans) is unlikely to significantly alter Ukraine's economic trajectory enough to affect AI governance capabilities There are no mechanisms described for ensuring that supported businesses will engage with AI governance or safety issues \",\n",
       "  'likelihood_assessment': '        The likelihood that this grant would meaningfully impact AI safety through strengthening Ukrainian institutions is extremely low. The causal chain is too long and tenuous, with multiple dependencies that would need to align perfectly. There is no direct connection to AI safety work described in the proposal.      '},\n",
       " {'impact_statement': '        Supporting Ukrainian entrepreneurship could potentially preserve valuable technical talent in the region that might otherwise be lost, some of which could eventually contribute to AI safety work.      ',\n",
       "  'pathway_to_impact': '        Ukraine has a strong technical education system and significant software engineering talent. By improving economic conditions and creating more opportunities for entrepreneurs, some technically skilled individuals who might otherwise emigrate could remain in Ukraine. A portion of these individuals might eventually work on AI safety-related challenges either within Ukraine or as part of international collaborations.      ',\n",
       "  'barriers_to_impact': ' There is no indication in the proposal that the project specifically targets technical talent or AI-related ventures The scale of the proposed intervention is far too small to significantly affect talent retention at a national level There is no mechanism described for directing preserved talent toward AI safety work The ongoing war creates immediate survival concerns that likely overshadow long-term considerations about AI risks ',\n",
       "  'likelihood_assessment': '        The likelihood that this grant would meaningfully contribute to AI safety through talent preservation is extremely low. The proposal does not target technical talent specifically, and the scale is insufficient to make a meaningful difference in talent retention at a level that would affect AI safety work.      '}]"
      ]
     },
     "execution_count": 21,
     "metadata": {},
     "output_type": "execute_result"
    }
   ],
   "source": [
    "extract_all_xml_tags_properties(clean_xml_string(dirty_screening_results[0][\"model_output\"]), \"possible_impact\", [\"impact_statement\", \"pathway_to_impact\", \"barriers_to_impact\", \"likelihood_assessment\"])"
   ]
  }
 ],
 "metadata": {
  "kernelspec": {
   "display_name": ".venv",
   "language": "python",
   "name": "python3"
  },
  "language_info": {
   "codemirror_mode": {
    "name": "ipython",
    "version": 3
   },
   "file_extension": ".py",
   "mimetype": "text/x-python",
   "name": "python",
   "nbconvert_exporter": "python",
   "pygments_lexer": "ipython3",
   "version": "3.10.4"
  }
 },
 "nbformat": 4,
 "nbformat_minor": 2
}
